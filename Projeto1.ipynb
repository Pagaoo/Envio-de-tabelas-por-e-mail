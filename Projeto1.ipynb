{
  "nbformat": 4,
  "nbformat_minor": 0,
  "metadata": {
    "colab": {
      "name": "Projeto1.ipynb",
      "provenance": [],
      "collapsed_sections": [],
      "mount_file_id": "1jvb-hT5PR8QBiArnEZlrxpPGArS65yG2",
      "authorship_tag": "ABX9TyMbaRGDHmNb5t29wamgMOVD"
    },
    "kernelspec": {
      "name": "python3",
      "display_name": "Python 3"
    }
  },
  "cells": [
    {
      "cell_type": "markdown",
      "metadata": {
        "id": "grtpxaxqHHUI"
      },
      "source": [
        "Importar a tabela de vendas usando o pandas"
      ]
    },
    {
      "cell_type": "code",
      "metadata": {
        "id": "4b-OicIh_Zj_"
      },
      "source": [
        "import pandas as pd\r\n",
        "\r\n",
        "tabela_vendas = pd.read_excel('/content/drive/MyDrive/Python/Projeto1/Vendas.xlsx')\r\n",
        "display(tabela_vendas)"
      ],
      "execution_count": null,
      "outputs": []
    },
    {
      "cell_type": "markdown",
      "metadata": {
        "id": "HdKyKtPBHB9_"
      },
      "source": [
        "Agrupar as lojas pelos valores finais somados de cada loja"
      ]
    },
    {
      "cell_type": "code",
      "metadata": {
        "id": "XVL77xtsA0NR"
      },
      "source": [
        "tabela_faturamento = tabela_vendas[['ID Loja', 'Valor Final']].groupby('ID Loja').sum()\r\n",
        "tabela_faturamento = tabela_faturamento.sort_values(by='Valor Final', ascending=False)\r\n",
        "display(tabela_faturamento)"
      ],
      "execution_count": null,
      "outputs": []
    },
    {
      "cell_type": "markdown",
      "metadata": {
        "id": "G_4DwUitGrIV"
      },
      "source": [
        "Agrupar as lojas pela quantidade de produtos vendidos"
      ]
    },
    {
      "cell_type": "code",
      "metadata": {
        "id": "JaCf9YdYGksd"
      },
      "source": [
        "tabela_quantidade = tabela_vendas[['ID Loja', 'Quantidade']].groupby('ID Loja').sum()\r\n",
        "tabela_quantidade = tabela_quantidade.sort_values(by='Quantidade', ascending=False)  # Ordena os items de quantidade de forma decresente\r\n",
        "display(tabela_quantidade)"
      ],
      "execution_count": null,
      "outputs": []
    },
    {
      "cell_type": "markdown",
      "metadata": {
        "id": "nnqTs9XJHuhv"
      },
      "source": [
        "Calcular ticket médio. Ticket Médio = faturamento / quantidade "
      ]
    },
    {
      "cell_type": "code",
      "metadata": {
        "id": "1qNC126bH1y_"
      },
      "source": [
        "ticket_medio = (tabela_faturamento['Valor Final'] / tabela_quantidade['Quantidade']).to_frame()\r\n",
        "ticket_medio = ticket_medio.rename(columns={0: 'Ticket Médio'})  # Troca o 0 do titulo da coluna por Ticket Médio\r\n",
        "display(ticket_medio)"
      ],
      "execution_count": null,
      "outputs": []
    },
    {
      "cell_type": "markdown",
      "metadata": {
        "id": "t8HRAAvTJjNE"
      },
      "source": [
        "Função enviar e-mail:"
      ]
    },
    {
      "cell_type": "code",
      "metadata": {
        "id": "NqGR8QagJvqX"
      },
      "source": [
        "def enviar_email(nome_da_loja, tabela):\r\n",
        "  import smtplib\r\n",
        "  import email.message\r\n",
        "\r\n",
        "  server = smtplib.SMTP('smtp.gmail.com:587')  \r\n",
        "  corpo_email = f\"\"\"\r\n",
        "  <p>Prezados,</p>\r\n",
        "  <p>Segue relatório de vendas:</p>\r\n",
        "  {tabela.to_html()}\r\n",
        "  <p>Qualquer dúvida, entrar em contato!</p>\r\n",
        "  \"\"\"\r\n",
        "    \r\n",
        "  msg = email.message.Message()\r\n",
        "  msg['Subject'] = f\"Relátorio de Vendas - {nome_da_loja}\"  # Assunto do e-mail\r\n",
        "    \r\n",
        "  # Fazer antes (apenas na 1ª vez): Ativar Aplicativos não Seguros.\r\n",
        "  # Gerenciar Conta Google -> Segurança -> Aplicativos não Seguros -> Habilitar\r\n",
        "  # Caso mesmo assim dê o erro: smtplib.SMTPAuthenticationError: (534,\r\n",
        "  # Você faz o login no seu e-mail e depois entra em: https://accounts.google.com/DisplayUnlockCaptcha\r\n",
        "  msg['From'] = ''  # Seu gmail (Necessário ser gmail).\r\n",
        "  msg['To'] = ''  # e-mail do destinatário, qualquer provedor\r\n",
        "  password = ''  # Senha do seu e-mail\r\n",
        "  msg.add_header('Content-Type', 'text/html')\r\n",
        "  msg.set_payload(corpo_email )\r\n",
        "    \r\n",
        "  s = smtplib.SMTP('smtp.gmail.com: 587')\r\n",
        "  s.starttls()\r\n",
        "  # Login Credentials for sending the mail\r\n",
        "  s.login(msg['From'], password)\r\n",
        "  s.sendmail(msg['From'], [msg['To']], msg.as_string().encode('utf-8'))\r\n",
        "  print('Email enviado')\r\n"
      ],
      "execution_count": 62,
      "outputs": []
    },
    {
      "cell_type": "markdown",
      "metadata": {
        "id": "UUnpR7NsOhOe"
      },
      "source": [
        "Enviar e-mail"
      ]
    },
    {
      "cell_type": "code",
      "metadata": {
        "id": "2UPD09vlObZy"
      },
      "source": [
        "tabela_completa = tabela_faturamento.join(tabela_quantidade).join(ticket_medio)\r\n",
        "enviar_email(\"Diretoria\", tabela_completa)"
      ],
      "execution_count": null,
      "outputs": []
    },
    {
      "cell_type": "markdown",
      "metadata": {
        "id": "3RCMvXqVRGCW"
      },
      "source": [
        "Enviar e-mail com faturamento individual de cada loja"
      ]
    },
    {
      "cell_type": "code",
      "metadata": {
        "id": "cEplcWBBRHz_"
      },
      "source": [
        "lojas = tabela_vendas['ID Loja'].unique()\r\n",
        "\r\n",
        "for loja in lojas:\r\n",
        "  linhas = tabela_vendas['ID Loja'] == loja\r\n",
        "  tabela_loja = tabela_vendas.loc[linhas, ['ID Loja', 'Quantidade', 'Valor Final']]  # Localiza linhas e colunas\r\n",
        "  tabela_loja = tabela_loja.groupby('ID Loja').sum()\r\n",
        "  tabela_loja['Ticket Médio'] = tabela_loja['Valor Final'] / tabela_loja['Quantidade']  # Cria a coluna ticket médio\r\n",
        "  enviar_email(loja, tabela_loja)\r\n"
      ],
      "execution_count": null,
      "outputs": []
    }
  ]
}